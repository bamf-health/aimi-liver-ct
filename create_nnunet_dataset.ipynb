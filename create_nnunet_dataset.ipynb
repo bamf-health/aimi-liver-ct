{
 "cells": [
  {
   "cell_type": "code",
   "execution_count": 1,
   "metadata": {},
   "outputs": [],
   "source": [
    "import os\n",
    "from pathlib import Path\n",
    "import json\n",
    "import SimpleITK as sitk\n"
   ]
  },
  {
   "cell_type": "code",
   "execution_count": 2,
   "metadata": {},
   "outputs": [],
   "source": [
    "# Setup nnunet env vars\n",
    "os.environ[\"nnUNet_raw_data_base\"] = \"./nnunet_data/nnUNet_raw_data_base\"\n",
    "os.environ[\"nnUNet_preprocessed\"] = \"./nnunet_data/nnUNet_preprocessed\"\n",
    "os.environ[\"RESULTS_FOLDER\"] = \"./nnunet_data/nnUNet_trained_models\"\n"
   ]
  },
  {
   "cell_type": "code",
   "execution_count": 3,
   "metadata": {},
   "outputs": [],
   "source": [
    "TaskNumber = \"Task773_Liver\""
   ]
  },
  {
   "cell_type": "code",
   "execution_count": 4,
   "metadata": {},
   "outputs": [],
   "source": [
    "def flare21_to_liver(input_file, output_file):\n",
    "    \"\"\"Get just liver (label=1) from flare21 dataset\"\"\"\n",
    "    img = sitk.ReadImage(input_file)\n",
    "    img = img == 1\n",
    "    sitk.WriteImage(img, output_file, useCompression=True, compressionLevel=9)"
   ]
  },
  {
   "cell_type": "markdown",
   "metadata": {},
   "source": [
    "Setup dataset in format nnunet expects"
   ]
  },
  {
   "cell_type": "code",
   "execution_count": 5,
   "metadata": {},
   "outputs": [],
   "source": [
    "dataset = []\n",
    "\n",
    "# Get total segmentator dataset\n",
    "ts_dir = Path(\"training_data/total_segmentator\")\n",
    "for ct in ts_dir.rglob(\"ct.nii.gz\"):\n",
    "    seg = ct.parent / \"segmentations\" / \"liver.nii.gz\"\n",
    "    assert seg.exists()\n",
    "    dataset.append((\"ts\", ct, seg))\n",
    "\n",
    "# Get flare21 dataset\n",
    "fl_dir = Path(\"training_data/flare21/TrainingImg\")\n",
    "for ct in fl_dir.rglob(\"train*.nii.gz\"):\n",
    "    seg = ct.parent.parent / \"TrainingMask\" / f\"{ct.name[:9]}.nii.gz\"\n",
    "    assert seg.exists()\n",
    "    dataset.append((\"flare\", ct, seg))\n",
    "\n",
    "# setup links in nnunet format\n",
    "base_dir = Path(os.environ[\"nnUNet_raw_data_base\"]) / \"nnUNet_raw_data\" / TaskNumber\n",
    "scans_dir = base_dir / \"imagesTr\"\n",
    "labels_dir = base_dir / \"labelsTr\"\n",
    "scans_dir.mkdir(parents=True, exist_ok=True)\n",
    "labels_dir.mkdir(parents=True, exist_ok=True)\n",
    "\n",
    "if len(list(scans_dir.glob(\"*\"))) > 0:\n",
    "    raise RuntimeError(\"nnunet data dir is not empty!\")\n",
    "if len(list(labels_dir.glob(\"*\"))) > 0:\n",
    "    raise RuntimeError(\"nnunet data dir is not empty!\")\n",
    "\n",
    "training_set = []\n",
    "for i, (ds_name, ct, seg) in enumerate(sorted(dataset)):\n",
    "    case_id = f\"train_{i:04d}\"\n",
    "    ct_link = scans_dir / f\"{case_id}_0000.nii.gz\"\n",
    "    seg_link = labels_dir / f\"{case_id}.nii.gz\"\n",
    "    ct_link.symlink_to(ct.absolute())\n",
    "    if ds_name == \"flare\":\n",
    "        flare21_to_liver(seg, seg_link)\n",
    "    else:\n",
    "        seg_link.symlink_to(seg.absolute())\n",
    "    training_set.append(\n",
    "        {\n",
    "            \"image\": str((scans_dir / f\"{case_id}.nii.gz\").relative_to(base_dir)),\n",
    "            \"label\": str(seg_link.relative_to(base_dir)),\n",
    "        }\n",
    "    )\n",
    "\n",
    "# Save training.json\n",
    "with open(\"dataset.json\") as f:\n",
    "    training_json = json.load(f)\n",
    "\n",
    "training_json[\"training\"] = training_set\n",
    "training_json[\"numTraining\"] = len(training_set)\n",
    "\n",
    "with open(\"dataset.json\", \"w\") as f:\n",
    "    json.dump(training_json, f, indent=2)\n",
    "\n",
    "dataset_link = base_dir / \"dataset.json\"\n",
    "dataset_link.symlink_to(Path(\"dataset.json\").absolute())"
   ]
  },
  {
   "cell_type": "code",
   "execution_count": null,
   "metadata": {},
   "outputs": [],
   "source": []
  }
 ],
 "metadata": {
  "kernelspec": {
   "display_name": ".venv",
   "language": "python",
   "name": "python3"
  },
  "language_info": {
   "codemirror_mode": {
    "name": "ipython",
    "version": 3
   },
   "file_extension": ".py",
   "mimetype": "text/x-python",
   "name": "python",
   "nbconvert_exporter": "python",
   "pygments_lexer": "ipython3",
   "version": "3.10.12"
  },
  "orig_nbformat": 4
 },
 "nbformat": 4,
 "nbformat_minor": 2
}
